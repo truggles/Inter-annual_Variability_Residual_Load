{
 "cells": [
  {
   "cell_type": "code",
   "execution_count": 1,
   "metadata": {},
   "outputs": [],
   "source": [
    "import pandas as pd\n",
    "import numpy as np\n",
    "from datetime import datetime, timedelta"
   ]
  },
  {
   "cell_type": "code",
   "execution_count": 3,
   "metadata": {},
   "outputs": [
    {
     "data": {
      "text/html": [
       "<div>\n",
       "<style scoped>\n",
       "    .dataframe tbody tr th:only-of-type {\n",
       "        vertical-align: middle;\n",
       "    }\n",
       "\n",
       "    .dataframe tbody tr th {\n",
       "        vertical-align: top;\n",
       "    }\n",
       "\n",
       "    .dataframe thead th {\n",
       "        text-align: right;\n",
       "    }\n",
       "</style>\n",
       "<table border=\"1\" class=\"dataframe\">\n",
       "  <thead>\n",
       "    <tr style=\"text-align: right;\">\n",
       "      <th></th>\n",
       "      <th>UTC</th>\n",
       "      <th>mw_EIA</th>\n",
       "      <th>mw_PJM</th>\n",
       "    </tr>\n",
       "  </thead>\n",
       "  <tbody>\n",
       "    <tr>\n",
       "      <th>0</th>\n",
       "      <td>6/17/20 23:00</td>\n",
       "      <td>100005</td>\n",
       "      <td>14991.718</td>\n",
       "    </tr>\n",
       "    <tr>\n",
       "      <th>1</th>\n",
       "      <td>6/17/20 22:00</td>\n",
       "      <td>100902</td>\n",
       "      <td>15344.703</td>\n",
       "    </tr>\n",
       "    <tr>\n",
       "      <th>2</th>\n",
       "      <td>6/17/20 21:00</td>\n",
       "      <td>100386</td>\n",
       "      <td>15501.441</td>\n",
       "    </tr>\n",
       "    <tr>\n",
       "      <th>3</th>\n",
       "      <td>6/17/20 20:00</td>\n",
       "      <td>99351</td>\n",
       "      <td>15465.010</td>\n",
       "    </tr>\n",
       "    <tr>\n",
       "      <th>4</th>\n",
       "      <td>6/17/20 19:00</td>\n",
       "      <td>98302</td>\n",
       "      <td>15411.055</td>\n",
       "    </tr>\n",
       "    <tr>\n",
       "      <th>...</th>\n",
       "      <td>...</td>\n",
       "      <td>...</td>\n",
       "      <td>...</td>\n",
       "    </tr>\n",
       "    <tr>\n",
       "      <th>67</th>\n",
       "      <td>6/15/20 4:00</td>\n",
       "      <td>72297</td>\n",
       "      <td>65267.634</td>\n",
       "    </tr>\n",
       "    <tr>\n",
       "      <th>68</th>\n",
       "      <td>6/15/20 3:00</td>\n",
       "      <td>75954</td>\n",
       "      <td>69281.732</td>\n",
       "    </tr>\n",
       "    <tr>\n",
       "      <th>69</th>\n",
       "      <td>6/15/20 2:00</td>\n",
       "      <td>78494</td>\n",
       "      <td>74053.493</td>\n",
       "    </tr>\n",
       "    <tr>\n",
       "      <th>70</th>\n",
       "      <td>6/15/20 1:00</td>\n",
       "      <td>79185</td>\n",
       "      <td>77720.073</td>\n",
       "    </tr>\n",
       "    <tr>\n",
       "      <th>71</th>\n",
       "      <td>6/15/20 0:00</td>\n",
       "      <td>80632</td>\n",
       "      <td>78498.800</td>\n",
       "    </tr>\n",
       "  </tbody>\n",
       "</table>\n",
       "<p>72 rows × 3 columns</p>\n",
       "</div>"
      ],
      "text/plain": [
       "              UTC  mw_EIA     mw_PJM\n",
       "0   6/17/20 23:00  100005  14991.718\n",
       "1   6/17/20 22:00  100902  15344.703\n",
       "2   6/17/20 21:00  100386  15501.441\n",
       "3   6/17/20 20:00   99351  15465.010\n",
       "4   6/17/20 19:00   98302  15411.055\n",
       "..            ...     ...        ...\n",
       "67   6/15/20 4:00   72297  65267.634\n",
       "68   6/15/20 3:00   75954  69281.732\n",
       "69   6/15/20 2:00   78494  74053.493\n",
       "70   6/15/20 1:00   79185  77720.073\n",
       "71   6/15/20 0:00   80632  78498.800\n",
       "\n",
       "[72 rows x 3 columns]"
      ]
     },
     "execution_count": 3,
     "metadata": {},
     "output_type": "execute_result"
    }
   ],
   "source": [
    "df = pd.read_csv('pjm_tmp.csv')\n",
    "df"
   ]
  },
  {
   "cell_type": "code",
   "execution_count": 4,
   "metadata": {},
   "outputs": [],
   "source": [
    "df['datetime'] = pd.to_datetime(df['UTC'])"
   ]
  },
  {
   "cell_type": "code",
   "execution_count": 5,
   "metadata": {},
   "outputs": [],
   "source": [
    "import matplotlib.pyplot as plt"
   ]
  },
  {
   "cell_type": "code",
   "execution_count": 10,
   "metadata": {},
   "outputs": [],
   "source": [
    "new_dts = []\n",
    "for idx in df.index:\n",
    "    dt = df.loc[idx, 'datetime'] + timedelta(hours=1)\n",
    "    new_dts.append(dt)\n",
    "df['new'] = new_dts"
   ]
  },
  {
   "cell_type": "code",
   "execution_count": 12,
   "metadata": {},
   "outputs": [
    {
     "data": {
      "image/png": "[encoded data removed]",
      "text/plain": [
       "<Figure size 432x288 with 1 Axes>"
      ]
     },
     "metadata": {
      "needs_background": "light"
     },
     "output_type": "display_data"
    }
   ],
   "source": [
    "fig, ax = plt.subplots()\n",
    "ax.plot(df['datetime'], df['mw_EIA'], label='EIA')\n",
    "ax.plot(df['datetime'], df['mw_PJM'], label='PJM original')\n",
    "ax.plot(df['new'], df['mw_PJM'], label='PJM shifted')\n",
    "plt.legend()\n",
    "plt.show()"
   ]
  },
  {
   "cell_type": "code",
   "execution_count": null,
   "metadata": {},
   "outputs": [],
   "source": []
  }
 ],
 "metadata": {
  "kernelspec": {
   "display_name": "Python 3",
   "language": "python",
   "name": "python3"
  },
  "language_info": {
   "codemirror_mode": {
    "name": "ipython",
    "version": 3
   },
   "file_extension": ".py",
   "mimetype": "text/x-python",
   "name": "python",
   "nbconvert_exporter": "python",
   "pygments_lexer": "ipython3",
   "version": "3.7.4"
  }
 },
 "nbformat": 4,
 "nbformat_minor": 2
}
