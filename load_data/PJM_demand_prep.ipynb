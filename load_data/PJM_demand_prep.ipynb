{
 "cells": [
  {
   "cell_type": "code",
   "execution_count": 4,
   "metadata": {},
   "outputs": [],
   "source": [
    "import pandas as pd\n",
    "import numpy as np\n",
    "from datetime import datetime, timedelta"
   ]
  },
  {
   "cell_type": "code",
   "execution_count": 11,
   "metadata": {
    "scrolled": true
   },
   "outputs": [
    {
     "name": "stdout",
     "output_type": "stream",
     "text": [
      "1993\n",
      " - 8759\n",
      "1994\n",
      " - 8759\n",
      " - 17518\n",
      "1995\n",
      " - 8759\n",
      " - 26277\n",
      "1996\n",
      " - 8783\n",
      " - 35060\n",
      "1997\n",
      " - 8759\n",
      " - 43819\n",
      "1998\n",
      " - 8759\n",
      " - 52578\n",
      "1999\n",
      " - 8759\n",
      " - 61337\n",
      "2000\n",
      " - 8784\n",
      " - 70121\n",
      "2001\n",
      " - 8759\n",
      " - 78880\n",
      "2002\n",
      " - 8748\n",
      " - 87628\n",
      "2003\n",
      " - 8757\n",
      " - 96385\n",
      "2004\n",
      " - 8782\n",
      " - 105167\n",
      "2005\n",
      " - 8760\n",
      " - 113927\n",
      "2006\n",
      " - 8760\n",
      " - 122687\n",
      "2007\n",
      " - 8760\n",
      " - 131447\n",
      "2008\n",
      " - 8784\n",
      " - 140231\n",
      "2009\n",
      " - 8758\n",
      " - 148989\n",
      "2010\n",
      " - 8760\n",
      " - 157749\n",
      "2011\n",
      " - 8760\n",
      " - 166509\n",
      "2012\n",
      " - 8784\n",
      " - 175293\n",
      "2013\n",
      " - 8760\n",
      " - 184053\n",
      "2014\n",
      " - 8760\n",
      " - 192813\n",
      "2015\n",
      " - 8760\n",
      " - 201573\n",
      "2016\n",
      " - 8784\n",
      " - 210357\n",
      "2017\n",
      " - 8760\n",
      " - 219117\n",
      "2018\n",
      " - 8760\n",
      " - 227877\n",
      "2019\n",
      " - 8760\n",
      " - 236637\n"
     ]
    }
   ],
   "source": [
    "### Check for hour start vs hour end timestamp\n",
    "\n",
    "first = True\n",
    "for YEAR in range(1993, 2020):\n",
    "    \n",
    "    print(YEAR)\n",
    "    \n",
    "    \n",
    "    df = pd.read_csv(f'/Users/truggles/Downloads/PJM_DEMAND/hrl_load_metered_{YEAR}.csv')\n",
    "\n",
    "    df = df[ (df['nerc_region'] == 'RTO') &\n",
    "             (df['mkt_region'] == 'RTO') &\n",
    "             (df['zone'] == 'RTO') &\n",
    "             (df['load_area'] == 'RTO')           \n",
    "           ]\n",
    "        \n",
    "    #print(df.head())\n",
    "    print(f' - {len(df.index)}')\n",
    "    \n",
    "    df['datetime_beginning_utc'] = pd.to_datetime(df['datetime_beginning_utc'])\n",
    "    df['datetime_end_utc'] = df['datetime_beginning_utc'].shift(periods=-1)\n",
    "    df.loc[df.index[-1], 'datetime_end_utc'] = df.loc[df.index[-2], 'datetime_end_utc'] + timedelta(hours=1)\n",
    "    \n",
    "    if first:\n",
    "        master = df[['datetime_beginning_utc', 'datetime_end_utc', 'mw']]\n",
    "        master_cols = list(master.columns)\n",
    "    else:\n",
    "        master = master.append(df[['datetime_beginning_utc', 'datetime_end_utc', 'mw']])\n",
    "        print(f' - {len(master.index)}')\n",
    "    first = False\n",
    "\n",
    "\n",
    "master.to_csv('tmp_PJM2.csv', index=False)"
   ]
  },
  {
   "cell_type": "code",
   "execution_count": 15,
   "metadata": {},
   "outputs": [
    {
     "data": {
      "image/png": "[encoded data removed]",
      "text/plain": [
       "<Figure size 432x288 with 1 Axes>"
      ]
     },
     "metadata": {
      "needs_background": "light"
     },
     "output_type": "display_data"
    }
   ],
   "source": [
    "import matplotlib.pyplot as plt\n",
    "\n",
    "df = pd.read_csv('tmp_PJM2.csv')\n",
    "df['date_time'] = pd.to_datetime(df['datetime_end_utc'])\n",
    "df.dtypes\n",
    "\n",
    "\n",
    "fig, ax = plt.subplots()\n",
    "ax.plot(df['date_time'], df['mw'])\n",
    "plt.show()"
   ]
  },
  {
   "cell_type": "code",
   "execution_count": null,
   "metadata": {},
   "outputs": [],
   "source": []
  }
 ],
 "metadata": {
  "kernelspec": {
   "display_name": "Python 3",
   "language": "python",
   "name": "python3"
  },
  "language_info": {
   "codemirror_mode": {
    "name": "ipython",
    "version": 3
   },
   "file_extension": ".py",
   "mimetype": "text/x-python",
   "name": "python",
   "nbconvert_exporter": "python",
   "pygments_lexer": "ipython3",
   "version": "3.7.4"
  }
 },
 "nbformat": 4,
 "nbformat_minor": 2
}
