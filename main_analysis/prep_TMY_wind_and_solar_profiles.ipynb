{
 "cells": [
  {
   "cell_type": "markdown",
   "metadata": {},
   "source": [
    "# Create Typical Meteorological Year wind and solar profiles\n",
    "\n",
    "- Take the wind and solar files from 1990-2019 for each region (30 years)\n",
    "- Average each 8760 hour across all years\n",
    "- Drop leap days from this averaging\n",
    "- This creates a TMY profile based on 30 years of data\n",
    "- Re-expand this to 30 years of data in the same format as the wind and solar CFs files\n",
    "- Copy values from Feb 28 to any leap day Feb 29"
   ]
  },
  {
   "cell_type": "code",
   "execution_count": null,
   "metadata": {},
   "outputs": [],
   "source": [
    "import numpy as np\n",
    "import pandas as pd\n",
    "import matplotlib.pyplot as plt\n",
    "import sys\n",
    "import calendar\n",
    "\n",
    "sys.path.append(\"/home/truggles/Inter-annual_Variability_Residual_Load\")\n",
    "from helpers import return_file_info_map"
   ]
  },
  {
   "cell_type": "code",
   "execution_count": null,
   "metadata": {},
   "outputs": [],
   "source": [
    "def get_resource_file(ba, resource):\n",
    "    ba_info = return_file_info_map( ba )\n",
    "    df = pd.read_csv(f\"../{ba_info[resource][0]}\")\n",
    "    print(df.head())\n",
    "    return df\n",
    "\n",
    "def drop_leap_days(df):\n",
    "    df = df.loc[ ~((df['month'] == 2) & (df['day'] == 29)) ]\n",
    "    return df\n",
    "\n",
    "def calc_TMY_profile(df, years):\n",
    "    \n",
    "    var = 'w_cfs' if 'w_cfs' in df.columns else 's_cfs'\n",
    "    tmy = np.zeros(8760) # hours in non-leap year\n",
    "    for yr in years:\n",
    "        tmp = df.loc[ df['year'] == yr ]\n",
    "        tmy += tmp[var].values\n",
    "    tmy = tmy / len(years)\n",
    "    return tmy\n",
    "\n",
    "def distribute_TMY(ba, resource, tmy, years):\n",
    "    df = get_resource_file(ba, resource)\n",
    "    df['tmy'] = np.zeros(len(df.index))\n",
    "    for yr in years:\n",
    "        df.loc[ (df['year'] == yr) & ~((df['month'] == 2) & (df['day'] == 29)), 'tmy' ] = tmy\n",
    "        if calendar.isleap(yr):\n",
    "            df.loc[ (df['year'] == yr) & (df['month'] == 2) & (df['day'] == 29), 'tmy' ] = \\\n",
    "               df.loc[ (df['year'] == yr) & (df['month'] == 2) & (df['day'] == 28), 'tmy' ].values \n",
    "    ba_info = return_file_info_map( ba )\n",
    "    \n",
    "    # Drop normal CF column\n",
    "    var = 'w_cfs' if 'w_cfs' in df.columns else 's_cfs'\n",
    "    df = df.drop([var,], axis=1)\n",
    "    df = df.rename(columns = {'tmy':var})\n",
    "    \n",
    "    df.to_csv(f\"../{ba_info[resource][0]}\".replace('.csv', '_TMY.csv'), index=False)\n",
    "\n",
    "def multi_week_avgs(ba, resource, shifts_min, shifts_max, years):\n",
    "    \n",
    "    ba_info = return_file_info_map( ba )\n",
    "    df = pd.read_csv(f\"../{ba_info[resource][0]}\".replace('.csv', '_TMY.csv'))\n",
    "    var = 'w_cfs' if 'w_cfs' in df.columns else 's_cfs'\n",
    "    df[f'{var}2'] = np.zeros(len(df.index))\n",
    "    n_shifts = 0\n",
    "    for i in range(shifts_min, shifts_max+1):\n",
    "        print(i, 24*i)\n",
    "        df[f'{var}2'] += df[var].shift(periods=24*i)\n",
    "        n_shifts += 1\n",
    "    df[f'{var}2'] = df[f'{var}2'] / n_shifts\n",
    "    \n",
    "    # Fix ends where shifts returned NAN values\n",
    "    for yr in [years[0], years[-1]]:\n",
    "        print(yr)\n",
    "        if calendar.isleap(yr):\n",
    "            print(f'Is leap {yr}')\n",
    "            tgt_yr = yr + 4 if yr + 4 in years else yr - 4\n",
    "        if not calendar.isleap(yr):\n",
    "            print(f'Is not leap {yr}')\n",
    "            tgt_yr = yr + 1 if yr + 1 in years else yr - 1\n",
    "        print(tgt_yr)\n",
    "        df.loc[ df['year'] == yr, f'{var}2' ] = df.loc[ df['year'] == tgt_yr, f'{var}2' ].values\n",
    "    \n",
    "    # Drop normal CF column\n",
    "    to_save = df\n",
    "    to_save = to_save.drop([var,], axis=1)\n",
    "    to_save = to_save.rename(columns = {f'{var}2':var})\n",
    "    to_save.to_csv(f\"../{ba_info[resource][0]}\".replace('.csv', '_TMY2.csv'), index=False)\n",
    "    return df\n",
    "    \n",
    "years = range(1990, 2020)\n",
    "for resource in ['wind', 'solar']:\n",
    "    for ba in ['ERCOT', 'PJM', 'NYISO', 'FR']:\n",
    "        df = get_resource_file(ba, resource)\n",
    "        df = drop_leap_days(df)\n",
    "        tmy = calc_TMY_profile(df, years)\n",
    "        distribute_TMY(ba, resource, tmy, years)\n",
    "        df = multi_week_avgs(ba, resource, -7, 7, years)"
   ]
  },
  {
   "cell_type": "code",
   "execution_count": null,
   "metadata": {},
   "outputs": [],
   "source": [
    "fig, ax = plt.subplots(figsize=(15,3))\n",
    "#ax.plot(tmy)\n",
    "ax.plot(df.loc[df['year']==2019, 'w_cfs'].values)\n",
    "ax.plot(df.loc[df['year']==2019, 'w_cfs2'].values, alpha=.5)\n",
    "plt.show()"
   ]
  },
  {
   "cell_type": "code",
   "execution_count": null,
   "metadata": {},
   "outputs": [],
   "source": [
    "fig, ax = plt.subplots(figsize=(15,3))\n",
    "#ax.plot(tmy)\n",
    "ax.plot(df.loc[(df['year']==2019) & (df['month']==7), 'w_cfs'].values)\n",
    "ax.plot(df.loc[(df['year']==2019) & (df['month']==7), 'w_cfs2'].values, alpha=.5)\n",
    "plt.show()"
   ]
  },
  {
   "cell_type": "code",
   "execution_count": null,
   "metadata": {},
   "outputs": [],
   "source": []
  }
 ],
 "metadata": {
  "kernelspec": {
   "display_name": "Python 3",
   "language": "python",
   "name": "python3"
  },
  "language_info": {
   "codemirror_mode": {
    "name": "ipython",
    "version": 3
   },
   "file_extension": ".py",
   "mimetype": "text/x-python",
   "name": "python",
   "nbconvert_exporter": "python",
   "pygments_lexer": "ipython3",
   "version": "3.8.5"
  }
 },
 "nbformat": 4,
 "nbformat_minor": 4
}
