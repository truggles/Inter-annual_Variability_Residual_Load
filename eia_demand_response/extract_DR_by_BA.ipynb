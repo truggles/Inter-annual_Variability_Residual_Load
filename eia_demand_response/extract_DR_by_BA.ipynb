{
 "cells": [
  {
   "cell_type": "code",
   "execution_count": null,
   "metadata": {},
   "outputs": [],
   "source": [
    "import numpy as np\n",
    "import pandas as pd"
   ]
  },
  {
   "cell_type": "code",
   "execution_count": null,
   "metadata": {},
   "outputs": [],
   "source": [
    "def get_file(year):\n",
    "    name = 'DSM' if year < 2013 else 'Demand_Response'\n",
    "    if year == 2012:\n",
    "        name = 'dsm'\n",
    "    app = 'xlsx' if (year not in [2012, 2013, 2014]) else 'xls'\n",
    "    sheet = 'Demand Response_States' if year > 2012 else 'States'\n",
    "    if year == 2007:\n",
    "        sheet = 'DSM- States'\n",
    "    if year == 2008:\n",
    "        sheet = 'DSM-State'\n",
    "    if year == 2009:\n",
    "        sheet = 'DSM'\n",
    "    print(f'data/all_DR/{name}_{year}.{app}', sheet)\n",
    "    df = pd.read_excel(f'data/all_DR/{name}_{year}.{app}', sheet_name=sheet)\n",
    "    print(\" -- \", df.size)"
   ]
  },
  {
   "cell_type": "code",
   "execution_count": null,
   "metadata": {},
   "outputs": [],
   "source": [
    "for yr in range(2001, 2020):\n",
    "    print(yr)\n",
    "    get_file(yr)"
   ]
  },
  {
   "cell_type": "code",
   "execution_count": null,
   "metadata": {},
   "outputs": [],
   "source": []
  }
 ],
 "metadata": {
  "kernelspec": {
   "display_name": "Python 3",
   "language": "python",
   "name": "python3"
  },
  "language_info": {
   "codemirror_mode": {
    "name": "ipython",
    "version": 3
   },
   "file_extension": ".py",
   "mimetype": "text/x-python",
   "name": "python",
   "nbconvert_exporter": "python",
   "pygments_lexer": "ipython3",
   "version": "3.8.5"
  }
 },
 "nbformat": 4,
 "nbformat_minor": 4
}
